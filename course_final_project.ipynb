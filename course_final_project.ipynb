{
 "cells": [
  {
   "cell_type": "markdown",
   "id": "adcbbac4-3499-4432-a0ff-7e4f34b1cdeb",
   "metadata": {},
   "source": [
    "# Course Final Project"
   ]
  },
  {
   "cell_type": "markdown",
   "id": "4ecd00f8-cacb-4062-a66a-b6851f31c255",
   "metadata": {},
   "source": [
    "This notebook is the final project of a course."
   ]
  },
  {
   "cell_type": "markdown",
   "id": "a0d8adf6-909d-42a1-88f4-0a0c9f9c1481",
   "metadata": {},
   "source": [
    "Some of the popular languages that Data Scientists use are:\n",
    "<ol>\n",
    "    <li>Python</li>\n",
    "    <li>R</li>\n",
    "    <li>Scala</li>\n",
    "    <li>Java</li>\n",
    "</ol>    "
   ]
  },
  {
   "cell_type": "markdown",
   "id": "48d07df1-26e5-4dfc-83fd-20d6ac363915",
   "metadata": {},
   "source": [
    "Some of the commonly used libraries used by Data Scientists include:\n",
    "<ol>\n",
    "<li>Pandas</li>\n",
    "<li>sklearn</li>\n",
    "<li>TensorFlow</li>\n",
    "<li>Kerras</li>\n",
    "</ol>"
   ]
  },
  {
   "cell_type": "markdown",
   "id": "8596c210-ae05-4be6-8584-9aa782c12e2f",
   "metadata": {},
   "source": [
    "|<H3>Data Science Tools</h3>|\n",
    "|--------------|\n",
    "|RStudio|\n",
    "|Anaconda|\n",
    "|Jupyter notebook|"
   ]
  },
  {
   "cell_type": "markdown",
   "id": "406c67e0-d3a5-43b9-b1a3-9f31669849d1",
   "metadata": {},
   "source": [
    "<h3>Below are a few examples of evaluating arithmetic expressions in Python</h3>"
   ]
  },
  {
   "cell_type": "code",
   "execution_count": 6,
   "id": "a81624b6-ac6f-444a-ad76-da5853ee370b",
   "metadata": {},
   "outputs": [
    {
     "data": {
      "text/plain": [
       "17"
      ]
     },
     "execution_count": 6,
     "metadata": {},
     "output_type": "execute_result"
    }
   ],
   "source": [
    "# This a simple arithmetic expression to mutiply then add integers\n",
    "(3*4)+5"
   ]
  },
  {
   "cell_type": "code",
   "execution_count": 11,
   "id": "bdf77fe3-55f0-4ffc-bd8b-f6a361e65646",
   "metadata": {},
   "outputs": [
    {
     "data": {
      "text/plain": [
       "3"
      ]
     },
     "execution_count": 11,
     "metadata": {},
     "output_type": "execute_result"
    }
   ],
   "source": [
    "# This will convert 200 minutes to hours by diving by 60\n",
    "200 // 60"
   ]
  },
  {
   "cell_type": "markdown",
   "id": "bc85db72-041a-4bf8-8799-f020c9acae0b",
   "metadata": {},
   "source": [
    "<b>Objectives:</b>\n",
    "<ol>\n",
    "    <li> create on git-hub publicly viewable notebook</li>\n",
    "    <li> at least 8 Markdown cells and 2 code cells</li>\n",
    "    <li> Additional markdowns</li>\n",
    "</ol>    "
   ]
  },
  {
   "cell_type": "markdown",
   "id": "e9d394d3-d687-4cf5-92d2-8ea910de6a66",
   "metadata": {},
   "source": [
    "## Author \n",
    "Ellei"
   ]
  },
  {
   "cell_type": "code",
   "execution_count": null,
   "id": "eacc5590-e5fa-447d-9107-0cf1765e4503",
   "metadata": {},
   "outputs": [],
   "source": []
  }
 ],
 "metadata": {
  "kernelspec": {
   "display_name": "anaconda-2022.05-py39",
   "language": "python",
   "name": "conda-env-anaconda-2022.05-py39-py"
  },
  "language_info": {
   "codemirror_mode": {
    "name": "ipython",
    "version": 3
   },
   "file_extension": ".py",
   "mimetype": "text/x-python",
   "name": "python",
   "nbconvert_exporter": "python",
   "pygments_lexer": "ipython3",
   "version": "3.9.12"
  }
 },
 "nbformat": 4,
 "nbformat_minor": 5
}
